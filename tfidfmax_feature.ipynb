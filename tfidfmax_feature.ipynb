{
 "cells": [
  {
   "cell_type": "code",
   "execution_count": 3,
   "id": "3d8df98b-2362-45d9-aa0d-2358b344fce4",
   "metadata": {},
   "outputs": [],
   "source": [
    "import pandas as pd\n",
    "from sklearn.feature_extraction.text import TfidfVectorizer\n",
    "import numpy as np\n",
    "\n",
    "df = pd.read_excel(r\"C:\\Users\\shris\\Desktop\\neutral.xlsx\", )\n",
    "\n",
    "# Remove NaN values from the comments\n",
    "comments = df['Comments'].replace(np.nan, '', regex=True).tolist()\n",
    "\n",
    "# Create a TfidfVectorizer object with max_features set to 1000\n",
    "vectorizer = TfidfVectorizer(max_features=1000)\n",
    "\n",
    "# Fit the vectorizer to the comments\n",
    "vectorizer.fit(comments)\n",
    "# Get list of feature names (words)\n",
    "feature_names = list(vectorizer.vocabulary_.keys())\n",
    "\n",
    "# Function to remove all words except the top 1000 words from a given sentence\n",
    "def keep_top_1000_words(sentence):\n",
    "    # Tokenize the sentence into words\n",
    "    words = sentence.split()\n",
    "    # Keep only the top 1000 words from the feature names\n",
    "    filtered_words = [word for word in words if word in feature_names]\n",
    "    # Join the filtered words back into a sentence\n",
    "    filtered_sentence = ' '.join(filtered_words)\n",
    "    return filtered_sentence\n",
    "# Iterate over the comments and keep only the top 1000 words from each comment\n",
    "filtered_comments = []\n",
    "for comment in comments:\n",
    "    filtered_comment = keep_top_1000_words(comment)\n",
    "    filtered_comments.append(filtered_comment)\n",
    "\n",
    "# Create a new DataFrame with the filtered comments\n",
    "filtered_df = pd.DataFrame({'comment_text': filtered_comments})\n",
    "\n",
    "# Save the new DataFrame in another Excel sheet\n",
    "filtered_df.to_excel(r\"C:\\Users\\shris\\Desktop\\filtered_comments.xlsx\", index=False)\n"
   ]
  },
  {
   "cell_type": "code",
   "execution_count": null,
   "id": "b8c9e424-42d8-469b-b951-81d26c2d0f1c",
   "metadata": {},
   "outputs": [],
   "source": []
  }
 ],
 "metadata": {
  "kernelspec": {
   "display_name": "Python 3 (ipykernel)",
   "language": "python",
   "name": "python3"
  },
  "language_info": {
   "codemirror_mode": {
    "name": "ipython",
    "version": 3
   },
   "file_extension": ".py",
   "mimetype": "text/x-python",
   "name": "python",
   "nbconvert_exporter": "python",
   "pygments_lexer": "ipython3",
   "version": "3.10.9"
  }
 },
 "nbformat": 4,
 "nbformat_minor": 5
}
