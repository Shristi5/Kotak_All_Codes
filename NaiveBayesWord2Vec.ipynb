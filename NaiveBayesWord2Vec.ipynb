{
 "cells": [
  {
   "cell_type": "code",
   "execution_count": 10,
   "id": "8a017d55-af0f-4c02-be2b-14782f46201c",
   "metadata": {},
   "outputs": [
    {
     "name": "stdout",
     "output_type": "stream",
     "text": [
      "Accuracy: 0.6343244653103808\n"
     ]
    }
   ],
   "source": [
    "import pandas as pd\n",
    "import numpy as np\n",
    "from sklearn.model_selection import train_test_split\n",
    "from gensim.models import Word2Vec\n",
    "from sklearn.naive_bayes import MultinomialNB\n",
    "from sklearn.metrics import accuracy_score\n",
    "from sklearn.preprocessing import MinMaxScaler\n",
    "\n",
    "# Load data from Excel file\n",
    "data = pd.read_excel(r\"C:\\Users\\shris\\Desktop\\Final.xlsx\", sheet_name='Sheet1')\n",
    "# Remove NaN values from the data\n",
    "data.dropna(subset=['Comments'], inplace=True)\n",
    "data['Comments'].astype(str)\n",
    "\n",
    "# Split data into training and testing sets\n",
    "train_data, test_data, train_labels, test_labels = train_test_split(data['Comments'], data['Sentiment'], test_size=0.2)\n",
    "\n",
    "# Train Word2Vec model on the training data\n",
    "sentences = train_data.apply(lambda x: str(x).split()).tolist()\n",
    "model = Word2Vec(sentences, min_count=1, vector_size=1000, window=5, sg=1)\n",
    "\n",
    "# Create feature vectors for the training and testing data\n",
    "train_features = np.array([np.mean([model.wv[w] for w in words if w in model.wv], axis=0) if len([model.wv[w] for w in words if w in model.wv]) > 0 else np.zeros(1000) for words in train_data.apply(lambda x: str(x).split())])\n",
    "test_features = np.array([np.mean([model.wv[w] for w in words if w in model.wv], axis=0) if len([model.wv[w] for w in words if w in model.wv]) > 0 else np.zeros(1000) for words in test_data.apply(lambda x: str(x).split())])\n",
    "\n",
    "# Normalize feature vectors to have non-negative values\n",
    "scaler = MinMaxScaler()\n",
    "train_features = scaler.fit_transform(train_features)\n",
    "test_features = scaler.transform(test_features)\n",
    "\n",
    "# Train Naive Bayes classifier\n",
    "clf = MultinomialNB()\n",
    "clf.fit(train_features, train_labels)\n",
    "\n",
    "# Predict labels for test data\n",
    "pred_labels = clf.predict(test_features)\n",
    "\n",
    "# Calculate accuracy of the classifier\n",
    "accuracy = accuracy_score(test_labels, pred_labels)\n",
    "print('Accuracy:', accuracy)\n"
   ]
  },
  {
   "cell_type": "code",
   "execution_count": null,
   "id": "5f195555-1c5f-4658-b9f2-88b3d747fd47",
   "metadata": {},
   "outputs": [],
   "source": []
  }
 ],
 "metadata": {
  "kernelspec": {
   "display_name": "Python 3 (ipykernel)",
   "language": "python",
   "name": "python3"
  },
  "language_info": {
   "codemirror_mode": {
    "name": "ipython",
    "version": 3
   },
   "file_extension": ".py",
   "mimetype": "text/x-python",
   "name": "python",
   "nbconvert_exporter": "python",
   "pygments_lexer": "ipython3",
   "version": "3.10.9"
  }
 },
 "nbformat": 4,
 "nbformat_minor": 5
}
