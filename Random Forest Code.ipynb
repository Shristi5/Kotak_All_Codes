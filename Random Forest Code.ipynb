{
 "cells": [
  {
   "cell_type": "code",
   "execution_count": 1,
   "id": "627a162c-82c0-4b3f-b96c-e5cf16a04508",
   "metadata": {},
   "outputs": [
    {
     "name": "stdout",
     "output_type": "stream",
     "text": [
      "Accuracy scores: [0.77479394 0.77426216 0.76256315 0.77186918 0.76781915]\n",
      "Mean accuracy: 0.7702615165726635\n",
      "Standard deviation: 0.004568646515471445\n"
     ]
    }
   ],
   "source": [
    "import pandas as pd\n",
    "from sklearn.feature_extraction.text import TfidfVectorizer\n",
    "from sklearn.ensemble import RandomForestClassifier\n",
    "from sklearn.model_selection import cross_val_score, train_test_split\n",
    "\n",
    "# Load data from Excel file\n",
    "data = pd.read_excel(r\"C:\\Users\\shris\\Desktop\\Final.xlsx\", sheet_name='Final_Sheet')\n",
    "# Remove NaN values from the data\n",
    "data.dropna(subset=['Comments'], inplace=True)\n",
    "# Extract comments and labels from the data\n",
    "comments = data['Comments'].astype(str)\n",
    "labels = data['Sentiment']\n",
    "\n",
    "# Split data into training and test sets\n",
    "train_comments, test_comments, train_labels, test_labels = train_test_split(\n",
    "    comments, labels, test_size=0.2, random_state=42)\n",
    "\n",
    "# Convert training comments to matrix using TF-IDF\n",
    "tfidf = TfidfVectorizer(max_features = 1000)\n",
    "train_comments_tfidf = tfidf.fit_transform(train_comments)\n",
    "# Create a random forest classifier\n",
    "rf_clf = RandomForestClassifier(random_state=42)\n",
    "\n",
    "# Perform 5-fold cross-validation on the training data\n",
    "scores = cross_val_score(rf_clf,train_comments_tfidf ,train_labels, cv=5)\n",
    "\n",
    "# Print the mean and standard deviation of the accuracy scores\n",
    "print('Accuracy scores:', scores)\n",
    "print('Mean accuracy:', scores.mean())\n",
    "print('Standard deviation:', scores.std())\n",
    "\n",
    "\n"
   ]
  },
  {
   "cell_type": "code",
   "execution_count": 6,
   "id": "c58ce79d-398e-4f4b-8bfa-47b7a8859995",
   "metadata": {},
   "outputs": [
    {
     "ename": "ValueError",
     "evalue": "multiclass format is not supported",
     "output_type": "error",
     "traceback": [
      "\u001b[1;31m---------------------------------------------------------------------------\u001b[0m",
      "\u001b[1;31mValueError\u001b[0m                                Traceback (most recent call last)",
      "Cell \u001b[1;32mIn[6], line 45\u001b[0m\n\u001b[0;32m     42\u001b[0m positive_class_probabilities \u001b[38;5;241m=\u001b[39m probabilities[:, \u001b[38;5;241m1\u001b[39m]\n\u001b[0;32m     44\u001b[0m \u001b[38;5;66;03m# Calculate false positive rate, true positive rate, and thresholds for ROC curve\u001b[39;00m\n\u001b[1;32m---> 45\u001b[0m fpr, tpr, thresholds \u001b[38;5;241m=\u001b[39m \u001b[43mroc_curve\u001b[49m\u001b[43m(\u001b[49m\u001b[43mtest_labels\u001b[49m\u001b[43m,\u001b[49m\u001b[43m \u001b[49m\u001b[43mpositive_class_probabilities\u001b[49m\u001b[43m)\u001b[49m\n\u001b[0;32m     47\u001b[0m \u001b[38;5;66;03m# Calculate mean squared error (MSE)\u001b[39;00m\n\u001b[0;32m     48\u001b[0m mse \u001b[38;5;241m=\u001b[39m mean_squared_error(test_labels, predictions)\n",
      "File \u001b[1;32m~\\anaconda3\\lib\\site-packages\\sklearn\\metrics\\_ranking.py:992\u001b[0m, in \u001b[0;36mroc_curve\u001b[1;34m(y_true, y_score, pos_label, sample_weight, drop_intermediate)\u001b[0m\n\u001b[0;32m    904\u001b[0m \u001b[38;5;28;01mdef\u001b[39;00m \u001b[38;5;21mroc_curve\u001b[39m(\n\u001b[0;32m    905\u001b[0m     y_true, y_score, \u001b[38;5;241m*\u001b[39m, pos_label\u001b[38;5;241m=\u001b[39m\u001b[38;5;28;01mNone\u001b[39;00m, sample_weight\u001b[38;5;241m=\u001b[39m\u001b[38;5;28;01mNone\u001b[39;00m, drop_intermediate\u001b[38;5;241m=\u001b[39m\u001b[38;5;28;01mTrue\u001b[39;00m\n\u001b[0;32m    906\u001b[0m ):\n\u001b[0;32m    907\u001b[0m     \u001b[38;5;124;03m\"\"\"Compute Receiver operating characteristic (ROC).\u001b[39;00m\n\u001b[0;32m    908\u001b[0m \n\u001b[0;32m    909\u001b[0m \u001b[38;5;124;03m    Note: this implementation is restricted to the binary classification task.\u001b[39;00m\n\u001b[1;32m   (...)\u001b[0m\n\u001b[0;32m    990\u001b[0m \u001b[38;5;124;03m    array([1.8 , 0.8 , 0.4 , 0.35, 0.1 ])\u001b[39;00m\n\u001b[0;32m    991\u001b[0m \u001b[38;5;124;03m    \"\"\"\u001b[39;00m\n\u001b[1;32m--> 992\u001b[0m     fps, tps, thresholds \u001b[38;5;241m=\u001b[39m \u001b[43m_binary_clf_curve\u001b[49m\u001b[43m(\u001b[49m\n\u001b[0;32m    993\u001b[0m \u001b[43m        \u001b[49m\u001b[43my_true\u001b[49m\u001b[43m,\u001b[49m\u001b[43m \u001b[49m\u001b[43my_score\u001b[49m\u001b[43m,\u001b[49m\u001b[43m \u001b[49m\u001b[43mpos_label\u001b[49m\u001b[38;5;241;43m=\u001b[39;49m\u001b[43mpos_label\u001b[49m\u001b[43m,\u001b[49m\u001b[43m \u001b[49m\u001b[43msample_weight\u001b[49m\u001b[38;5;241;43m=\u001b[39;49m\u001b[43msample_weight\u001b[49m\n\u001b[0;32m    994\u001b[0m \u001b[43m    \u001b[49m\u001b[43m)\u001b[49m\n\u001b[0;32m    996\u001b[0m     \u001b[38;5;66;03m# Attempt to drop thresholds corresponding to points in between and\u001b[39;00m\n\u001b[0;32m    997\u001b[0m     \u001b[38;5;66;03m# collinear with other points. These are always suboptimal and do not\u001b[39;00m\n\u001b[0;32m    998\u001b[0m     \u001b[38;5;66;03m# appear on a plotted ROC curve (and thus do not affect the AUC).\u001b[39;00m\n\u001b[1;32m   (...)\u001b[0m\n\u001b[0;32m   1003\u001b[0m     \u001b[38;5;66;03m# but does not drop more complicated cases like fps = [1, 3, 7],\u001b[39;00m\n\u001b[0;32m   1004\u001b[0m     \u001b[38;5;66;03m# tps = [1, 2, 4]; there is no harm in keeping too many thresholds.\u001b[39;00m\n\u001b[0;32m   1005\u001b[0m     \u001b[38;5;28;01mif\u001b[39;00m drop_intermediate \u001b[38;5;129;01mand\u001b[39;00m \u001b[38;5;28mlen\u001b[39m(fps) \u001b[38;5;241m>\u001b[39m \u001b[38;5;241m2\u001b[39m:\n",
      "File \u001b[1;32m~\\anaconda3\\lib\\site-packages\\sklearn\\metrics\\_ranking.py:749\u001b[0m, in \u001b[0;36m_binary_clf_curve\u001b[1;34m(y_true, y_score, pos_label, sample_weight)\u001b[0m\n\u001b[0;32m    747\u001b[0m y_type \u001b[38;5;241m=\u001b[39m type_of_target(y_true, input_name\u001b[38;5;241m=\u001b[39m\u001b[38;5;124m\"\u001b[39m\u001b[38;5;124my_true\u001b[39m\u001b[38;5;124m\"\u001b[39m)\n\u001b[0;32m    748\u001b[0m \u001b[38;5;28;01mif\u001b[39;00m \u001b[38;5;129;01mnot\u001b[39;00m (y_type \u001b[38;5;241m==\u001b[39m \u001b[38;5;124m\"\u001b[39m\u001b[38;5;124mbinary\u001b[39m\u001b[38;5;124m\"\u001b[39m \u001b[38;5;129;01mor\u001b[39;00m (y_type \u001b[38;5;241m==\u001b[39m \u001b[38;5;124m\"\u001b[39m\u001b[38;5;124mmulticlass\u001b[39m\u001b[38;5;124m\"\u001b[39m \u001b[38;5;129;01mand\u001b[39;00m pos_label \u001b[38;5;129;01mis\u001b[39;00m \u001b[38;5;129;01mnot\u001b[39;00m \u001b[38;5;28;01mNone\u001b[39;00m)):\n\u001b[1;32m--> 749\u001b[0m     \u001b[38;5;28;01mraise\u001b[39;00m \u001b[38;5;167;01mValueError\u001b[39;00m(\u001b[38;5;124m\"\u001b[39m\u001b[38;5;132;01m{0}\u001b[39;00m\u001b[38;5;124m format is not supported\u001b[39m\u001b[38;5;124m\"\u001b[39m\u001b[38;5;241m.\u001b[39mformat(y_type))\n\u001b[0;32m    751\u001b[0m check_consistent_length(y_true, y_score, sample_weight)\n\u001b[0;32m    752\u001b[0m y_true \u001b[38;5;241m=\u001b[39m column_or_1d(y_true)\n",
      "\u001b[1;31mValueError\u001b[0m: multiclass format is not supported"
     ]
    }
   ],
   "source": [
    "import pandas as pd\n",
    "from sklearn.feature_extraction.text import TfidfVectorizer\n",
    "from sklearn.ensemble import RandomForestClassifier\n",
    "from sklearn.model_selection import cross_val_score, train_test_split\n",
    "from sklearn.metrics import f1_score, roc_curve, mean_squared_error\n",
    "import matplotlib.pyplot as plt\n",
    "\n",
    "# Load data from Excel file\n",
    "data = pd.read_excel(r\"C:\\Users\\shris\\Desktop\\Final.xlsx\", sheet_name='Final_Sheet')\n",
    "# Remove NaN values from the data\n",
    "data.dropna(subset=['Comments'], inplace=True)\n",
    "# Extract comments and labels from the data\n",
    "comments = data['Comments'].astype(str)\n",
    "labels = data['Sentiment']\n",
    "\n",
    "# Split data into training and test sets\n",
    "train_comments, test_comments, train_labels, test_labels = train_test_split(\n",
    "    comments, labels, test_size=0.2, random_state=42)\n",
    "\n",
    "# Convert training comments to matrix using TF-IDF\n",
    "tfidf = TfidfVectorizer(max_features=1000)\n",
    "train_comments_tfidf = tfidf.fit_transform(train_comments)\n",
    "\n",
    "# Create a random forest classifier\n",
    "rf_clf = RandomForestClassifier(random_state=42)\n",
    "\n",
    "# Perform 5-fold cross-validation on the training data\n",
    "scores = cross_val_score(rf_clf, train_comments_tfidf, train_labels, cv=5)\n",
    "\n",
    "# Train the classifier on the full training data\n",
    "rf_clf.fit(train_comments_tfidf, train_labels)\n",
    "\n",
    "# Perform predictions on the test data\n",
    "test_comments_tfidf = tfidf.transform(test_comments)\n",
    "predictions = rf_clf.predict(test_comments_tfidf)\n",
    "\n",
    "# Calculate F1 score\n",
    "f1 = f1_score(test_labels, predictions, average='weighted')\n",
    "\n",
    "# Calculate probabilities for ROC curve\n",
    "probabilities = rf_clf.predict_proba(test_comments_tfidf)\n",
    "positive_class_probabilities = probabilities[:, 1]\n",
    "\n",
    "# Calculate false positive rate, true positive rate, and thresholds for ROC curve\n",
    "fpr, tpr, thresholds = roc_curve(test_labels, positive_class_probabilities)\n",
    "\n",
    "# Calculate mean squared error (MSE)\n",
    "mse = mean_squared_error(test_labels, predictions)\n",
    "\n",
    "# Print the mean and standard deviation of the accuracy scores\n",
    "print('Accuracy scores:', scores)\n",
    "print('Mean accuracy:', scores.mean())\n",
    "print('Standard deviation:', scores.std())\n",
    "\n",
    "# Print F1 score, MSE\n",
    "print('F1 score:', f1)\n",
    "print('MSE:', mse)\n",
    "\n",
    "# Plot ROC \n",
    "plt.plot(fpr, tpr)\n",
    "plt.xlabel('False Positive Rate')\n",
    "plt.ylabel('True Positive Rate')\n",
    "plt.title('ROC Curve')\n",
    "plt.show()\n"
   ]
  },
  {
   "cell_type": "code",
   "execution_count": null,
   "id": "5471d71f-60e5-47c0-a945-506fe54f82eb",
   "metadata": {},
   "outputs": [],
   "source": []
  }
 ],
 "metadata": {
  "kernelspec": {
   "display_name": "Python 3 (ipykernel)",
   "language": "python",
   "name": "python3"
  },
  "language_info": {
   "codemirror_mode": {
    "name": "ipython",
    "version": 3
   },
   "file_extension": ".py",
   "mimetype": "text/x-python",
   "name": "python",
   "nbconvert_exporter": "python",
   "pygments_lexer": "ipython3",
   "version": "3.10.9"
  }
 },
 "nbformat": 4,
 "nbformat_minor": 5
}
