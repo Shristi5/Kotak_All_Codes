{
 "cells": [
  {
   "cell_type": "code",
   "execution_count": 1,
   "id": "c191d5f7-5e04-4c09-9203-57f8eff57a9a",
   "metadata": {},
   "outputs": [
    {
     "name": "stdout",
     "output_type": "stream",
     "text": [
      "Hi\n"
     ]
    }
   ],
   "source": [
    "print(\"Hi\")\n"
   ]
  },
  {
   "cell_type": "code",
   "execution_count": 2,
   "id": "c99f4511-3cf3-48dc-a875-97762501b665",
   "metadata": {},
   "outputs": [],
   "source": [
    "import pandas as pd\n",
    "from sklearn.model_selection import train_test_split\n",
    "\n",
    "# Load data from Excel file\n",
    "data = pd.read_excel(r\"C:\\Users\\shris\\Desktop\\Final_Excel.xlsx\", sheet_name='Cleaned_Data')\n",
    "\n",
    "# Split data into training and test sets\n",
    "train_data, test_data, train_labels, test_labels = train_test_split(\n",
    "    data['cleaned_text'], data['Analysis'], test_size=0.25, random_state=42)\n",
    "\n",
    "# Split training data further into training and validation sets\n",
    "train_data, val_data, train_labels, val_labels = train_test_split(\n",
    "    train_data, train_labels, test_size=0.33, random_state=42)\n",
    "\n",
    "# Save the resulting data splits to separate Excel files\n",
    "train_data.to_excel(r\"C:\\Users\\shris\\Desktop\\train_data.xlsx\", index=False)\n",
    "train_labels.to_excel(r\"C:\\Users\\shris\\Desktop\\train_labels.xlsx\", index=False)\n",
    "test_data.to_excel(r\"C:\\Users\\shris\\Desktop\\test_data.xlsx\", index=False)\n",
    "test_labels.to_excel(r\"C:\\Users\\shris\\Desktop\\test_labels.xlsx\", index=False)\n",
    "val_data.to_excel(r\"C:\\Users\\shris\\Desktop\\val_data.xlsx\", index=False)\n",
    "val_labels.to_excel(r\"C:\\Users\\shris\\Desktop\\val_labels.xlsx\", index=False)\n"
   ]
  },
  {
   "cell_type": "code",
   "execution_count": null,
   "id": "30918163-74aa-4890-a6f8-e1def31b353c",
   "metadata": {},
   "outputs": [],
   "source": []
  }
 ],
 "metadata": {
  "kernelspec": {
   "display_name": "Python 3 (ipykernel)",
   "language": "python",
   "name": "python3"
  },
  "language_info": {
   "codemirror_mode": {
    "name": "ipython",
    "version": 3
   },
   "file_extension": ".py",
   "mimetype": "text/x-python",
   "name": "python",
   "nbconvert_exporter": "python",
   "pygments_lexer": "ipython3",
   "version": "3.10.9"
  }
 },
 "nbformat": 4,
 "nbformat_minor": 5
}
