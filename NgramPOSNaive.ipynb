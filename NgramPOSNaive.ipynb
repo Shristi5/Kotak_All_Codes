{
 "cells": [
  {
   "cell_type": "code",
   "execution_count": 6,
   "id": "5a0def5e-2149-4405-9c30-2ba70e0ffd6a",
   "metadata": {},
   "outputs": [
    {
     "ename": "MemoryError",
     "evalue": "Unable to allocate 36.2 GiB for an array with shape (6971, 696608) and data type int64",
     "output_type": "error",
     "traceback": [
      "\u001b[1;31m---------------------------------------------------------------------------\u001b[0m",
      "\u001b[1;31mMemoryError\u001b[0m                               Traceback (most recent call last)",
      "Cell \u001b[1;32mIn[6], line 31\u001b[0m\n\u001b[0;32m     28\u001b[0m train_pos_features \u001b[38;5;241m=\u001b[39m ngram_vectorizer_pos\u001b[38;5;241m.\u001b[39mfit_transform(train_pos_tags)\n\u001b[0;32m     30\u001b[0m \u001b[38;5;66;03m# Combine the n-gram features and the POS tag features\u001b[39;00m\n\u001b[1;32m---> 31\u001b[0m train_features_combined \u001b[38;5;241m=\u001b[39m np\u001b[38;5;241m.\u001b[39mhstack((\u001b[43mtrain_features\u001b[49m\u001b[38;5;241;43m.\u001b[39;49m\u001b[43mtoarray\u001b[49m\u001b[43m(\u001b[49m\u001b[43m)\u001b[49m, train_pos_features\u001b[38;5;241m.\u001b[39mtoarray()))\n\u001b[0;32m     33\u001b[0m \u001b[38;5;66;03m# Train Naive Bayes classifier\u001b[39;00m\n\u001b[0;32m     34\u001b[0m clf \u001b[38;5;241m=\u001b[39m MultinomialNB()\n",
      "File \u001b[1;32m~\\anaconda3\\lib\\site-packages\\scipy\\sparse\\_compressed.py:1051\u001b[0m, in \u001b[0;36m_cs_matrix.toarray\u001b[1;34m(self, order, out)\u001b[0m\n\u001b[0;32m   1049\u001b[0m \u001b[38;5;28;01mif\u001b[39;00m out \u001b[38;5;129;01mis\u001b[39;00m \u001b[38;5;28;01mNone\u001b[39;00m \u001b[38;5;129;01mand\u001b[39;00m order \u001b[38;5;129;01mis\u001b[39;00m \u001b[38;5;28;01mNone\u001b[39;00m:\n\u001b[0;32m   1050\u001b[0m     order \u001b[38;5;241m=\u001b[39m \u001b[38;5;28mself\u001b[39m\u001b[38;5;241m.\u001b[39m_swap(\u001b[38;5;124m'\u001b[39m\u001b[38;5;124mcf\u001b[39m\u001b[38;5;124m'\u001b[39m)[\u001b[38;5;241m0\u001b[39m]\n\u001b[1;32m-> 1051\u001b[0m out \u001b[38;5;241m=\u001b[39m \u001b[38;5;28;43mself\u001b[39;49m\u001b[38;5;241;43m.\u001b[39;49m\u001b[43m_process_toarray_args\u001b[49m\u001b[43m(\u001b[49m\u001b[43morder\u001b[49m\u001b[43m,\u001b[49m\u001b[43m \u001b[49m\u001b[43mout\u001b[49m\u001b[43m)\u001b[49m\n\u001b[0;32m   1052\u001b[0m \u001b[38;5;28;01mif\u001b[39;00m \u001b[38;5;129;01mnot\u001b[39;00m (out\u001b[38;5;241m.\u001b[39mflags\u001b[38;5;241m.\u001b[39mc_contiguous \u001b[38;5;129;01mor\u001b[39;00m out\u001b[38;5;241m.\u001b[39mflags\u001b[38;5;241m.\u001b[39mf_contiguous):\n\u001b[0;32m   1053\u001b[0m     \u001b[38;5;28;01mraise\u001b[39;00m \u001b[38;5;167;01mValueError\u001b[39;00m(\u001b[38;5;124m'\u001b[39m\u001b[38;5;124mOutput array must be C or F contiguous\u001b[39m\u001b[38;5;124m'\u001b[39m)\n",
      "File \u001b[1;32m~\\anaconda3\\lib\\site-packages\\scipy\\sparse\\_base.py:1298\u001b[0m, in \u001b[0;36mspmatrix._process_toarray_args\u001b[1;34m(self, order, out)\u001b[0m\n\u001b[0;32m   1296\u001b[0m     \u001b[38;5;28;01mreturn\u001b[39;00m out\n\u001b[0;32m   1297\u001b[0m \u001b[38;5;28;01melse\u001b[39;00m:\n\u001b[1;32m-> 1298\u001b[0m     \u001b[38;5;28;01mreturn\u001b[39;00m \u001b[43mnp\u001b[49m\u001b[38;5;241;43m.\u001b[39;49m\u001b[43mzeros\u001b[49m\u001b[43m(\u001b[49m\u001b[38;5;28;43mself\u001b[39;49m\u001b[38;5;241;43m.\u001b[39;49m\u001b[43mshape\u001b[49m\u001b[43m,\u001b[49m\u001b[43m \u001b[49m\u001b[43mdtype\u001b[49m\u001b[38;5;241;43m=\u001b[39;49m\u001b[38;5;28;43mself\u001b[39;49m\u001b[38;5;241;43m.\u001b[39;49m\u001b[43mdtype\u001b[49m\u001b[43m,\u001b[49m\u001b[43m \u001b[49m\u001b[43morder\u001b[49m\u001b[38;5;241;43m=\u001b[39;49m\u001b[43morder\u001b[49m\u001b[43m)\u001b[49m\n",
      "\u001b[1;31mMemoryError\u001b[0m: Unable to allocate 36.2 GiB for an array with shape (6971, 696608) and data type int64"
     ]
    }
   ],
   "source": [
    "import pandas as pd\n",
    "import numpy as np\n",
    "from sklearn.model_selection import train_test_split\n",
    "from sklearn.feature_extraction.text import CountVectorizer\n",
    "from sklearn.naive_bayes import MultinomialNB\n",
    "from sklearn.metrics import accuracy_score\n",
    "import nltk\n",
    "from nltk import pos_tag\n",
    "from nltk.corpus import stopwords\n",
    "\n",
    "# Load data from Excel file\n",
    "data = pd.read_excel(r\"C:\\Users\\shris\\Desktop\\Final.xlsx\", sheet_name='Cleaned_Data')\n",
    "# Split data into training and testing sets\n",
    "train_data, test_data, train_labels, test_labels = train_test_split(data['comment_text'], data['Analysis'], test_size=0.7)\n",
    "\n",
    "\n",
    "# Perform POS tagging on the training data\n",
    "train_data_tagged = [pos_tag(nltk.word_tokenize(comment)) for comment in train_data]\n",
    "\n",
    "# Extract POS tags from the tagged data\n",
    "train_pos_tags = []\n",
    "for tagged_comment in train_data_tagged:\n",
    "    pos_tags = [tag for word, tag in tagged_comment]\n",
    "    train_pos_tags.append(' '.join(pos_tags))\n",
    "\n",
    "# Extract n-grams from the POS tags\n",
    "ngram_vectorizer_pos = CountVectorizer(ngram_range=(2, 5))\n",
    "train_pos_features = ngram_vectorizer_pos.fit_transform(train_pos_tags)\n",
    "\n",
    "# Combine the n-gram features and the POS tag features\n",
    "train_features_combined = np.hstack((train_features.toarray(), train_pos_features.toarray()))\n",
    "\n",
    "# Train Naive Bayes classifier\n",
    "clf = MultinomialNB()\n",
    "clf.fit(train_features_combined, train_labels)\n",
    "\n",
    "# Extract features from the test data\n",
    "test_features = ngram_vectorizer.transform(test_data)\n",
    "test_data_tagged = [pos_tag(nltk.word_tokenize(comment)) for comment in test_data]\n",
    "test_pos_tags = []\n",
    "for tagged_comment in test_data_tagged:\n",
    "    pos_tags = [tag for word, tag in tagged_comment]\n",
    "    test_pos_tags.append(' '.join(pos_tags))\n",
    "test_pos_features = ngram_vectorizer_pos.transform(test_pos_tags)\n",
    "test_features_combined = np.hstack((test_features.toarray(), test_pos_features.toarray()))\n",
    "\n",
    "# Predict labels for test data\n",
    "pred_labels = clf.predict(test_features_combined)\n",
    "\n",
    "# Calculate accuracy of the classifier\n",
    "accuracy = accuracy_score(test_labels, pred_labels)\n",
    "print('Accuracy:', accuracy)\n"
   ]
  },
  {
   "cell_type": "code",
   "execution_count": null,
   "id": "c18a683f-32b1-437d-abc3-bfc9dd8f2b45",
   "metadata": {},
   "outputs": [],
   "source": []
  }
 ],
 "metadata": {
  "kernelspec": {
   "display_name": "Python 3 (ipykernel)",
   "language": "python",
   "name": "python3"
  },
  "language_info": {
   "codemirror_mode": {
    "name": "ipython",
    "version": 3
   },
   "file_extension": ".py",
   "mimetype": "text/x-python",
   "name": "python",
   "nbconvert_exporter": "python",
   "pygments_lexer": "ipython3",
   "version": "3.10.9"
  }
 },
 "nbformat": 4,
 "nbformat_minor": 5
}
