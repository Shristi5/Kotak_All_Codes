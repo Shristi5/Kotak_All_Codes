{
 "cells": [
  {
   "cell_type": "code",
   "execution_count": 1,
   "id": "803e8701-733b-4862-bfd3-0668c7fc3fdc",
   "metadata": {},
   "outputs": [
    {
     "name": "stdout",
     "output_type": "stream",
     "text": [
      "hi\n"
     ]
    }
   ],
   "source": [
    "print(\"hi\")\n"
   ]
  },
  {
   "cell_type": "code",
   "execution_count": null,
   "id": "b1c4b663-613b-4cf1-8cf2-594c9bfe16d8",
   "metadata": {},
   "outputs": [
    {
     "name": "stderr",
     "output_type": "stream",
     "text": [
      "C:\\Users\\shris\\anaconda3\\lib\\site-packages\\sklearn\\model_selection\\_split.py:700: UserWarning: The least populated class in y has only 1 members, which is less than n_splits=5.\n",
      "  warnings.warn(\n",
      "C:\\Users\\shris\\anaconda3\\lib\\site-packages\\sklearn\\model_selection\\_validation.py:778: UserWarning: Scoring failed. The score on this train-test partition for these parameters will be set to nan. Details: \n",
      "Traceback (most recent call last):\n",
      "  File \"C:\\Users\\shris\\anaconda3\\lib\\site-packages\\sklearn\\model_selection\\_validation.py\", line 767, in _score\n",
      "    scores = scorer(estimator, X_test, y_test)\n",
      "  File \"C:\\Users\\shris\\anaconda3\\lib\\site-packages\\sklearn\\metrics\\_scorer.py\", line 444, in _passthrough_scorer\n",
      "    return estimator.score(*args, **kwargs)\n",
      "  File \"C:\\Users\\shris\\anaconda3\\lib\\site-packages\\sklearn\\base.py\", line 649, in score\n",
      "    return accuracy_score(y, self.predict(X), sample_weight=sample_weight)\n",
      "  File \"C:\\Users\\shris\\anaconda3\\lib\\site-packages\\sklearn\\ensemble\\_forest.py\", line 820, in predict\n",
      "    proba = self.predict_proba(X)\n",
      "  File \"C:\\Users\\shris\\anaconda3\\lib\\site-packages\\sklearn\\ensemble\\_forest.py\", line 873, in predict_proba\n",
      "    Parallel(n_jobs=n_jobs, verbose=self.verbose, require=\"sharedmem\")(\n",
      "  File \"C:\\Users\\shris\\anaconda3\\lib\\site-packages\\sklearn\\utils\\parallel.py\", line 63, in __call__\n",
      "    return super().__call__(iterable_with_config)\n",
      "  File \"C:\\Users\\shris\\anaconda3\\lib\\site-packages\\joblib\\parallel.py\", line 1051, in __call__\n",
      "    while self.dispatch_one_batch(iterator):\n",
      "  File \"C:\\Users\\shris\\anaconda3\\lib\\site-packages\\joblib\\parallel.py\", line 864, in dispatch_one_batch\n",
      "    self._dispatch(tasks)\n",
      "  File \"C:\\Users\\shris\\anaconda3\\lib\\site-packages\\joblib\\parallel.py\", line 782, in _dispatch\n",
      "    job = self._backend.apply_async(batch, callback=cb)\n",
      "  File \"C:\\Users\\shris\\anaconda3\\lib\\site-packages\\joblib\\_parallel_backends.py\", line 208, in apply_async\n",
      "    result = ImmediateResult(func)\n",
      "  File \"C:\\Users\\shris\\anaconda3\\lib\\site-packages\\joblib\\_parallel_backends.py\", line 572, in __init__\n",
      "    self.results = batch()\n",
      "  File \"C:\\Users\\shris\\anaconda3\\lib\\site-packages\\joblib\\parallel.py\", line 263, in __call__\n",
      "    return [func(*args, **kwargs)\n",
      "  File \"C:\\Users\\shris\\anaconda3\\lib\\site-packages\\joblib\\parallel.py\", line 263, in <listcomp>\n",
      "    return [func(*args, **kwargs)\n",
      "  File \"C:\\Users\\shris\\anaconda3\\lib\\site-packages\\sklearn\\utils\\parallel.py\", line 123, in __call__\n",
      "    return self.function(*args, **kwargs)\n",
      "  File \"C:\\Users\\shris\\anaconda3\\lib\\site-packages\\sklearn\\ensemble\\_forest.py\", line 650, in _accumulate_prediction\n",
      "    prediction = predict(X, check_input=False)\n",
      "  File \"C:\\Users\\shris\\anaconda3\\lib\\site-packages\\sklearn\\tree\\_classes.py\", line 923, in predict_proba\n",
      "    proba = self.tree_.predict(X)\n",
      "  File \"sklearn\\tree\\_tree.pyx\", line 776, in sklearn.tree._tree.Tree.predict\n",
      "  File \"sklearn\\tree\\_tree.pyx\", line 778, in sklearn.tree._tree.Tree.predict\n",
      "numpy.core._exceptions._ArrayMemoryError: Unable to allocate 76.0 MiB for an array with shape (1680, 1, 5930) and data type float64\n",
      "\n",
      "  warnings.warn(\n"
     ]
    }
   ],
   "source": [
    "# -*- coding: utf-8 -*-\n",
    "\"\"\"\n",
    "Created on Tue May  9 12:46:33 2023\n",
    "\n",
    "@author: shris\n",
    "\"\"\"\n",
    "from sklearn.ensemble import RandomForestClassifier\n",
    "from sklearn.model_selection import GridSearchCV\n",
    "from sklearn.feature_extraction.text import TfidfVectorizer\n",
    "from sklearn.metrics import accuracy_score\n",
    "from sklearn.model_selection import cross_val_score, train_test_split\n",
    "import pandas as pd\n",
    "\n",
    "# Load data from Excel file\n",
    "data = pd.read_excel(r\"C:\\Users\\shris\\Desktop\\Final_Excel.xlsx\", sheet_name='Cleaned_Data')\n",
    "# Remove NaN values from the data\n",
    "data.dropna(subset=['cleaned_text'], inplace=True)\n",
    "# Extract comments and labels from the data\n",
    "comments = data['cleaned_text']\n",
    "labels = data['Analysis']\n",
    "\n",
    "# Split data into training and test sets\n",
    "train_comments, test_comments, train_labels, test_labels = train_test_split(\n",
    "    comments, labels, test_size=0.4, random_state=42)\n",
    "\n",
    "# Convert training comments to matrix using TF-IDF\n",
    "tfidf = TfidfVectorizer()\n",
    "train_comments_tfidf = tfidf.fit_transform(train_comments)\n",
    "test_comments_tfidf = tfidf.fit_transform(test_comments)\n",
    "param_grid = {\n",
    "    'n_estimators': [100, 200, 300],\n",
    "    'max_depth': [10, 20, 30],\n",
    "    \n",
    "    'max_features': ['sqrt', 'log2']\n",
    "}\n",
    "\n",
    "# Build the Random Forest model with GridSearchCV\n",
    "rf = RandomForestClassifier(random_state=42)\n",
    "scores = cross_val_score(rf,train_comments,train_labels.values.ravel(),cv=5)\n",
    "\n",
    "grid_search = GridSearchCV(rf, param_grid=param_grid, cv=5)\n",
    "grid_search.fit(train_comments_tfidf, train_comments)\n",
    "\n",
    "# Print the best hyperparameters found by GridSearchCV\n",
    "print(\"Best hyperparameters: \", grid_search.best_params_)\n",
    "\n",
    "# Evaluate the model on the testing set\n",
    "test_labels = grid_search.predict(test_comments_tfidf)\n",
    "accuracy = accuracy_score(test_comments, test_labels)\n",
    "print(\"Accuracy: \", accuracy)"
   ]
  },
  {
   "cell_type": "code",
   "execution_count": null,
   "id": "c812b0e8-9c99-4e9e-9a07-ba32e56a19ed",
   "metadata": {},
   "outputs": [],
   "source": []
  }
 ],
 "metadata": {
  "kernelspec": {
   "display_name": "Python 3 (ipykernel)",
   "language": "python",
   "name": "python3"
  },
  "language_info": {
   "codemirror_mode": {
    "name": "ipython",
    "version": 3
   },
   "file_extension": ".py",
   "mimetype": "text/x-python",
   "name": "python",
   "nbconvert_exporter": "python",
   "pygments_lexer": "ipython3",
   "version": "3.10.9"
  }
 },
 "nbformat": 4,
 "nbformat_minor": 5
}
