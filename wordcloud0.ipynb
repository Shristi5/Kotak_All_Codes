{
 "cells": [
  {
   "cell_type": "code",
   "execution_count": 1,
   "id": "ba00f77e-4b12-471a-8494-e5cd9207c5c7",
   "metadata": {},
   "outputs": [
    {
     "name": "stdout",
     "output_type": "stream",
     "text": [
      "Hi\n"
     ]
    }
   ],
   "source": [
    "print(\"Hi\")\n"
   ]
  },
  {
   "cell_type": "code",
   "execution_count": 4,
   "id": "fda27f5d-1779-4516-82be-119ed33fd105",
   "metadata": {},
   "outputs": [],
   "source": [
    "import pandas as pd\n",
    "import matplotlib.pyplot as plt\n",
    "import wordcloud\n",
    "from nltk.corpus import opinion_lexicon\n",
    "from wordcloud import WordCloud\n"
   ]
  },
  {
   "cell_type": "code",
   "execution_count": 6,
   "id": "572b09f5-f56c-41df-9f50-24da0205c126",
   "metadata": {},
   "outputs": [],
   "source": [
    "df = pd.read_excel(r\"C:\\Users\\shris\\Desktop\\Final_Excel.xlsx\", sheet_name='Cleaned_Data')\n",
    "\n",
    "# Extract the comments column and convert to a list\n",
    "comments = df['cleaned_text'].tolist()\n"
   ]
  },
  {
   "cell_type": "code",
   "execution_count": null,
   "id": "bdb50eea-36aa-47b0-bf79-b8c9f7952a0d",
   "metadata": {},
   "outputs": [],
   "source": [
    "\n",
    "# Extract positive words from the comments using NLTK's positive lexicon\n",
    "positive_words = []\n",
    "for comment in comments:\n",
    "    comment= str(comment)\n",
    "    for word in comment.split():\n",
    "        if word.lower() in opinion_lexicon.positive():\n",
    "            positive_words.append(word.lower())\n",
    "\n",
    "# Create a word cloud for the positive words\n",
    "wordcloud = WordCloud(width=800, height=800, background_color='white').generate(' '.join(positive_words))\n",
    "\n",
    "# Display the word cloud\n",
    "plt.figure(figsize=(8, 8), facecolor=None)\n",
    "plt.imshow(wordcloud)\n",
    "plt.axis(\"off\")\n",
    "plt.tight_layout(pad=0)\n",
    "plt.show()\n",
    "\n"
   ]
  },
  {
   "cell_type": "code",
   "execution_count": null,
   "id": "f5a4ae30-2583-4caa-9185-1587c5c24fdd",
   "metadata": {},
   "outputs": [],
   "source": []
  }
 ],
 "metadata": {
  "kernelspec": {
   "display_name": "Python 3 (ipykernel)",
   "language": "python",
   "name": "python3"
  },
  "language_info": {
   "codemirror_mode": {
    "name": "ipython",
    "version": 3
   },
   "file_extension": ".py",
   "mimetype": "text/x-python",
   "name": "python",
   "nbconvert_exporter": "python",
   "pygments_lexer": "ipython3",
   "version": "3.10.9"
  }
 },
 "nbformat": 4,
 "nbformat_minor": 5
}
