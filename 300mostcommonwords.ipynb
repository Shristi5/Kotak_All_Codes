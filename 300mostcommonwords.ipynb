{
 "cells": [
  {
   "cell_type": "code",
   "execution_count": 7,
   "id": "bcc53a46-63d7-4da7-b836-76a59a22f2b7",
   "metadata": {},
   "outputs": [
    {
     "name": "stdout",
     "output_type": "stream",
     "text": [
      "Top 300 words with the highest TF-IDF scores:\n",
      "['well', 'pay', 'beneficiary', 'dear', 'promised', 'able', 'fraudulent', 'reach', 'executive', 'personal', 'visited', 'booked', 'pm', 'place', 'regard', 'yes', 'date', 'shown', 'copy', 'item', 'month', 'kind', 'cc', 'wallet', 'whether', 'ready', 'november', 'got', 'iii', 'plan', 'proper', 'dist', 'data', 'add', 'behaviour', 'delhi', 'road', 'writing', 'done', 'error', 'self', 'april', 'amount', 'return', 'maximum', 'priority', 'second', 'stating', 'class', 'ki', 'sir', 'daily', 'case', 'least', 'min', 'fee', 'india', 'mean', 'raise', 'thanking', 'portal', 'protected', 'different', 'recieved', 'regular', 'let', 'personally', 'nagar', 'agreed', 'closed', 'registered', 'half', 'stop', 'tenure', 'member', 'thank', 'resolve', 'explained', 'ten', 'august', 'getting', 'correct', 'found', 'following', 'update', 'assured', 'seen', 'issue', 'worst', 'certificate', 'made', 'installment', 'branch', 'xxxx', 'area', 'immediately', 'ko', 'debit', 'big', 'reducing', 'talked', 'left', 'used', 'language', 'gold', 'deducted', 'expired', 'ever', 'checked', 'applicable', 'must', 'told', 'activated', 'handed', 'confirmed', 'recharge', 'message', 'try', 'slip', 'withdrawn', 'documentation', 'the', 'twice', 'asked', 'red', 'nice', 'according', 'okay', 'find', 'ho', 'benefit', 'coming', 'responsible', 'tax', 'deposited', 'mistake', 'child', 'condition', 'october', 'could', 'fake', 'first', 'pls', 'withdrawal', 'top', 'corporate', 'international', 'accept', 'notification', 'limit', 'nominal', 'follow', 'khan', 'denied', 'passed', 'cheating', 'mob', 'paper', 'working', 'mine', 'govt', 'secure', 'subject', 'regarding', 'based', 'staff', 'helpful', 'sort', 'confirm', 'ubi', 'costume', 'help', 'sending', 'wife', 'acc', 'hand', 'hello', 'stopped', 'procedure', 'star', 'march', 'colony', 'multiple', 'yesbank', 'three', 'mobile', 'cant', 'settlement', 'courier', 'spoke', 'show', 'complain', 'filled', 'went', 'though', 'unfortunately', 'numberprotected', 'bad', 'face', 'submitted', 'center', 'requested', 'entry', 'quick', 'recovery', 'happening', 'good', 'written', 'never', 'government', 'app', 'requirement', 'nazi', 'please', 'policy', 'opted', 'two', 'friendly', 'say', 'cost', 'demand', 'pas', 'poor', 'maturity', 'head', 'tell', 'dr', 'clearly', 'mumbai', 'behavior', 'ive', 'protectedgmailcom', 'th', 'review', 'payment', 'attention', 'name', 'instead', 'third', 'solution', 'level', 'knowledge', 'property', 'support', 'taking', 'totally', 'wait', 'sharma', 'premium', 'unprotected', 'bangalore', 'avail', 'may', 'chennai', 'hour', 'punjab', 'saving', 'record', 'failed', 'repay', 'respect', 'along', 'june', 'term', 'blocked', 'think', 'gay', 'looking', 'transfer', 'emergency', 'holder', 'yesterday', 'rate', 'contact', 'agreement', 'inform', 'people', 'reward', 'past', 'low', 'pick', 'entire', 'increase', 'visit', 'hold', 'letter', 'sirmadam', 'statement', 'directly', 'alert', 'shopping', 'kolkata', 'arrange', 'thing', 'despite', 'idea', 'would', 'offer', 'active', 'deal']\n",
      "Important words:\n",
      "[]\n",
      "Dimensions of the TF-IDF matrix: (14012, 999)\n"
     ]
    }
   ],
   "source": [
    "import pandas as pd\n",
    "import numpy as np\n",
    "from sklearn.feature_extraction.text import TfidfVectorizer\n",
    "\n",
    "# Load the Excel file\n",
    "\n",
    "df = pd.read_excel(r\"C:\\Users\\shris\\Desktop\\filtered_comments.xlsx\", )\n",
    "\n",
    "# Remove NaN values from the comments\n",
    "comments = df['comment_text'].replace(np.nan, '', regex=True).tolist()\n",
    "\n",
    "# Create a TF-IDF vectorizer\n",
    "vectorizer = TfidfVectorizer()\n",
    "\n",
    "# Calculate TF-IDF scores for all words in the comments\n",
    "tfidf_matrix = vectorizer.fit_transform(comments)\n",
    "\n",
    "# Get list of feature names (words)\n",
    "feature_names = list(vectorizer.vocabulary_.keys())\n",
    "\n",
    "# Calculate the average TF-IDF score for each word across all comments\n",
    "avg_tfidf_scores = tfidf_matrix.mean(axis=0)\n",
    "\n",
    "# Convert average scores to a list\n",
    "avg_tfidf_scores = avg_tfidf_scores.tolist()[0]\n",
    "threshold = 0.1\n",
    "\n",
    "\n",
    "\n",
    "\n",
    "\n",
    "# Create a new list of important words based on the threshold\n",
    "important_words = [feature_names[i] for i, score in enumerate(avg_tfidf_scores) if score > threshold]\n",
    "\n",
    "\n",
    "# Get the indices of the top 300 words with the highest TF-IDF scores\n",
    "top_indices = sorted(range(len(avg_tfidf_scores)), key=lambda i: avg_tfidf_scores[i], reverse=True)[:300]\n",
    "\n",
    "# Get the top 300 words with the highest TF-IDF scores\n",
    "top_words = [feature_names[i] for i in top_indices]\n",
    "\n",
    "# Print the top 300 words with the highest TF-IDF scores\n",
    "print('Top 300 words with the highest TF-IDF scores:')\n",
    "print(top_words)\n",
    "print('Important words:')\n",
    "print(important_words)\n",
    "print('Dimensions of the TF-IDF matrix:', tfidf_matrix.shape)\n",
    "\n"
   ]
  },
  {
   "cell_type": "code",
   "execution_count": null,
   "id": "be77d73e-4ca3-4e0d-b1d2-a5ab32b332ed",
   "metadata": {},
   "outputs": [],
   "source": []
  },
  {
   "cell_type": "code",
   "execution_count": null,
   "id": "c7fe6d2d-aaa5-41ec-8e95-d2bbad6cb2c0",
   "metadata": {},
   "outputs": [],
   "source": []
  }
 ],
 "metadata": {
  "kernelspec": {
   "display_name": "Python 3 (ipykernel)",
   "language": "python",
   "name": "python3"
  },
  "language_info": {
   "codemirror_mode": {
    "name": "ipython",
    "version": 3
   },
   "file_extension": ".py",
   "mimetype": "text/x-python",
   "name": "python",
   "nbconvert_exporter": "python",
   "pygments_lexer": "ipython3",
   "version": "3.10.9"
  }
 },
 "nbformat": 4,
 "nbformat_minor": 5
}
